{
 "cells": [
  {
   "cell_type": "code",
   "execution_count": 2,
   "id": "620017cc",
   "metadata": {},
   "outputs": [],
   "source": [
    "import great_expectations as ge\n",
    "import pandas as pd"
   ]
  },
  {
   "cell_type": "code",
   "execution_count": 3,
   "id": "b1dec266",
   "metadata": {},
   "outputs": [],
   "source": [
    "# pip install great_expectations"
   ]
  },
  {
   "cell_type": "code",
   "execution_count": 5,
   "id": "8c2a186c",
   "metadata": {},
   "outputs": [
    {
     "data": {
      "text/html": [
       "<div>\n",
       "<style scoped>\n",
       "    .dataframe tbody tr th:only-of-type {\n",
       "        vertical-align: middle;\n",
       "    }\n",
       "\n",
       "    .dataframe tbody tr th {\n",
       "        vertical-align: top;\n",
       "    }\n",
       "\n",
       "    .dataframe thead th {\n",
       "        text-align: right;\n",
       "    }\n",
       "</style>\n",
       "<table border=\"1\" class=\"dataframe\">\n",
       "  <thead>\n",
       "    <tr style=\"text-align: right;\">\n",
       "      <th></th>\n",
       "      <th>first_name</th>\n",
       "      <th>second_name</th>\n",
       "      <th>street</th>\n",
       "      <th>city</th>\n",
       "      <th>code</th>\n",
       "      <th>pincode</th>\n",
       "      <th>dob</th>\n",
       "    </tr>\n",
       "  </thead>\n",
       "  <tbody>\n",
       "    <tr>\n",
       "      <th>0</th>\n",
       "      <td>sam</td>\n",
       "      <td>sriw</td>\n",
       "      <td>120 jefferson st.</td>\n",
       "      <td>Riverside</td>\n",
       "      <td>NJ</td>\n",
       "      <td>8075</td>\n",
       "      <td>22-10-1966</td>\n",
       "    </tr>\n",
       "    <tr>\n",
       "      <th>1</th>\n",
       "      <td>Jack</td>\n",
       "      <td>McGinnis</td>\n",
       "      <td>220 hobo Av.</td>\n",
       "      <td>Phila</td>\n",
       "      <td>PA</td>\n",
       "      <td>9119</td>\n",
       "      <td>23-06-1986</td>\n",
       "    </tr>\n",
       "    <tr>\n",
       "      <th>2</th>\n",
       "      <td>juck</td>\n",
       "      <td>Repici</td>\n",
       "      <td>NaN</td>\n",
       "      <td>Riverside</td>\n",
       "      <td>NJ</td>\n",
       "      <td>8075</td>\n",
       "      <td>14-10-1968</td>\n",
       "    </tr>\n",
       "    <tr>\n",
       "      <th>3</th>\n",
       "      <td>Stephen</td>\n",
       "      <td>Tyler</td>\n",
       "      <td>7452 Terrace</td>\n",
       "      <td>NY</td>\n",
       "      <td>SD</td>\n",
       "      <td>91234</td>\n",
       "      <td>25-11-2002</td>\n",
       "    </tr>\n",
       "    <tr>\n",
       "      <th>4</th>\n",
       "      <td>rock</td>\n",
       "      <td>NaN</td>\n",
       "      <td>120 Jefferson St.</td>\n",
       "      <td>NY</td>\n",
       "      <td>NaN</td>\n",
       "      <td>298</td>\n",
       "      <td>26-01-1992</td>\n",
       "    </tr>\n",
       "  </tbody>\n",
       "</table>\n",
       "</div>"
      ],
      "text/plain": [
       "  first_name second_name             street       city code  pincode  \\\n",
       "0        sam        sriw  120 jefferson st.  Riverside   NJ     8075   \n",
       "1       Jack    McGinnis       220 hobo Av.      Phila   PA     9119   \n",
       "2       juck      Repici                NaN  Riverside   NJ     8075   \n",
       "3    Stephen       Tyler       7452 Terrace         NY   SD    91234   \n",
       "4       rock         NaN  120 Jefferson St.         NY  NaN      298   \n",
       "\n",
       "          dob  \n",
       "0  22-10-1966  \n",
       "1  23-06-1986  \n",
       "2  14-10-1968  \n",
       "3  25-11-2002  \n",
       "4  26-01-1992  "
      ]
     },
     "execution_count": 5,
     "metadata": {},
     "output_type": "execute_result"
    }
   ],
   "source": [
    "df = pd.read_csv(\"addresses.csv\")\n",
    "df.head()"
   ]
  },
  {
   "cell_type": "code",
   "execution_count": 6,
   "id": "3e2eb777",
   "metadata": {},
   "outputs": [],
   "source": [
    "df = ge.from_pandas(df)"
   ]
  },
  {
   "cell_type": "code",
   "execution_count": 7,
   "id": "70b7e38d",
   "metadata": {},
   "outputs": [
    {
     "data": {
      "text/html": [
       "<div>\n",
       "<style scoped>\n",
       "    .dataframe tbody tr th:only-of-type {\n",
       "        vertical-align: middle;\n",
       "    }\n",
       "\n",
       "    .dataframe tbody tr th {\n",
       "        vertical-align: top;\n",
       "    }\n",
       "\n",
       "    .dataframe thead th {\n",
       "        text-align: right;\n",
       "    }\n",
       "</style>\n",
       "<table border=\"1\" class=\"dataframe\">\n",
       "  <thead>\n",
       "    <tr style=\"text-align: right;\">\n",
       "      <th></th>\n",
       "      <th>first_name</th>\n",
       "      <th>second_name</th>\n",
       "      <th>street</th>\n",
       "      <th>city</th>\n",
       "      <th>code</th>\n",
       "      <th>pincode</th>\n",
       "      <th>dob</th>\n",
       "    </tr>\n",
       "  </thead>\n",
       "  <tbody>\n",
       "    <tr>\n",
       "      <th>0</th>\n",
       "      <td>sam</td>\n",
       "      <td>sriw</td>\n",
       "      <td>120 jefferson st.</td>\n",
       "      <td>Riverside</td>\n",
       "      <td>NJ</td>\n",
       "      <td>8075</td>\n",
       "      <td>22-10-1966</td>\n",
       "    </tr>\n",
       "    <tr>\n",
       "      <th>1</th>\n",
       "      <td>Jack</td>\n",
       "      <td>McGinnis</td>\n",
       "      <td>220 hobo Av.</td>\n",
       "      <td>Phila</td>\n",
       "      <td>PA</td>\n",
       "      <td>9119</td>\n",
       "      <td>23-06-1986</td>\n",
       "    </tr>\n",
       "    <tr>\n",
       "      <th>2</th>\n",
       "      <td>juck</td>\n",
       "      <td>Repici</td>\n",
       "      <td>NaN</td>\n",
       "      <td>Riverside</td>\n",
       "      <td>NJ</td>\n",
       "      <td>8075</td>\n",
       "      <td>14-10-1968</td>\n",
       "    </tr>\n",
       "    <tr>\n",
       "      <th>3</th>\n",
       "      <td>Stephen</td>\n",
       "      <td>Tyler</td>\n",
       "      <td>7452 Terrace</td>\n",
       "      <td>NY</td>\n",
       "      <td>SD</td>\n",
       "      <td>91234</td>\n",
       "      <td>25-11-2002</td>\n",
       "    </tr>\n",
       "    <tr>\n",
       "      <th>4</th>\n",
       "      <td>rock</td>\n",
       "      <td>NaN</td>\n",
       "      <td>120 Jefferson St.</td>\n",
       "      <td>NY</td>\n",
       "      <td>NaN</td>\n",
       "      <td>298</td>\n",
       "      <td>26-01-1992</td>\n",
       "    </tr>\n",
       "  </tbody>\n",
       "</table>\n",
       "</div>"
      ],
      "text/plain": [
       "  first_name second_name             street       city code  pincode  \\\n",
       "0        sam        sriw  120 jefferson st.  Riverside   NJ     8075   \n",
       "1       Jack    McGinnis       220 hobo Av.      Phila   PA     9119   \n",
       "2       juck      Repici                NaN  Riverside   NJ     8075   \n",
       "3    Stephen       Tyler       7452 Terrace         NY   SD    91234   \n",
       "4       rock         NaN  120 Jefferson St.         NY  NaN      298   \n",
       "\n",
       "          dob  \n",
       "0  22-10-1966  \n",
       "1  23-06-1986  \n",
       "2  14-10-1968  \n",
       "3  25-11-2002  \n",
       "4  26-01-1992  "
      ]
     },
     "execution_count": 7,
     "metadata": {},
     "output_type": "execute_result"
    }
   ],
   "source": [
    "df.head()"
   ]
  },
  {
   "cell_type": "code",
   "execution_count": 9,
   "id": "74e1ca29",
   "metadata": {},
   "outputs": [
    {
     "data": {
      "text/html": [
       "<div>\n",
       "<style scoped>\n",
       "    .dataframe tbody tr th:only-of-type {\n",
       "        vertical-align: middle;\n",
       "    }\n",
       "\n",
       "    .dataframe tbody tr th {\n",
       "        vertical-align: top;\n",
       "    }\n",
       "\n",
       "    .dataframe thead th {\n",
       "        text-align: right;\n",
       "    }\n",
       "</style>\n",
       "<table border=\"1\" class=\"dataframe\">\n",
       "  <thead>\n",
       "    <tr style=\"text-align: right;\">\n",
       "      <th></th>\n",
       "      <th>first_name</th>\n",
       "      <th>second_name</th>\n",
       "      <th>street</th>\n",
       "      <th>city</th>\n",
       "      <th>code</th>\n",
       "      <th>pincode</th>\n",
       "      <th>dob</th>\n",
       "    </tr>\n",
       "  </thead>\n",
       "  <tbody>\n",
       "    <tr>\n",
       "      <th>0</th>\n",
       "      <td>sam</td>\n",
       "      <td>sriw</td>\n",
       "      <td>120 jefferson st.</td>\n",
       "      <td>Riverside</td>\n",
       "      <td>NJ</td>\n",
       "      <td>8075</td>\n",
       "      <td>22-10-1966</td>\n",
       "    </tr>\n",
       "    <tr>\n",
       "      <th>1</th>\n",
       "      <td>Jack</td>\n",
       "      <td>McGinnis</td>\n",
       "      <td>220 hobo Av.</td>\n",
       "      <td>Phila</td>\n",
       "      <td>PA</td>\n",
       "      <td>9119</td>\n",
       "      <td>23-06-1986</td>\n",
       "    </tr>\n",
       "    <tr>\n",
       "      <th>2</th>\n",
       "      <td>juck</td>\n",
       "      <td>Repici</td>\n",
       "      <td>NaN</td>\n",
       "      <td>Riverside</td>\n",
       "      <td>NJ</td>\n",
       "      <td>8075</td>\n",
       "      <td>14-10-1968</td>\n",
       "    </tr>\n",
       "    <tr>\n",
       "      <th>3</th>\n",
       "      <td>Stephen</td>\n",
       "      <td>Tyler</td>\n",
       "      <td>7452 Terrace</td>\n",
       "      <td>NY</td>\n",
       "      <td>SD</td>\n",
       "      <td>91234</td>\n",
       "      <td>25-11-2002</td>\n",
       "    </tr>\n",
       "    <tr>\n",
       "      <th>4</th>\n",
       "      <td>rock</td>\n",
       "      <td>NaN</td>\n",
       "      <td>120 Jefferson St.</td>\n",
       "      <td>NY</td>\n",
       "      <td>NaN</td>\n",
       "      <td>298</td>\n",
       "      <td>26-01-1992</td>\n",
       "    </tr>\n",
       "  </tbody>\n",
       "</table>\n",
       "</div>"
      ],
      "text/plain": [
       "  first_name second_name             street       city code  pincode  \\\n",
       "0        sam        sriw  120 jefferson st.  Riverside   NJ     8075   \n",
       "1       Jack    McGinnis       220 hobo Av.      Phila   PA     9119   \n",
       "2       juck      Repici                NaN  Riverside   NJ     8075   \n",
       "3    Stephen       Tyler       7452 Terrace         NY   SD    91234   \n",
       "4       rock         NaN  120 Jefferson St.         NY  NaN      298   \n",
       "\n",
       "          dob  \n",
       "0  22-10-1966  \n",
       "1  23-06-1986  \n",
       "2  14-10-1968  \n",
       "3  25-11-2002  \n",
       "4  26-01-1992  "
      ]
     },
     "execution_count": 9,
     "metadata": {},
     "output_type": "execute_result"
    }
   ],
   "source": [
    "df_1  =ge.read_csv(\"addresses.csv\")\n",
    "df_1.head()"
   ]
  },
  {
   "cell_type": "code",
   "execution_count": 10,
   "id": "6cd31392",
   "metadata": {},
   "outputs": [
    {
     "data": {
      "text/plain": [
       "{\n",
       "  \"success\": false,\n",
       "  \"result\": {\n",
       "    \"element_count\": 9,\n",
       "    \"missing_count\": 0,\n",
       "    \"missing_percent\": 0.0,\n",
       "    \"unexpected_count\": 1,\n",
       "    \"unexpected_percent\": 11.11111111111111,\n",
       "    \"unexpected_percent_total\": 11.11111111111111,\n",
       "    \"unexpected_percent_nonmissing\": 11.11111111111111,\n",
       "    \"partial_unexpected_list\": [\n",
       "      \"first_name\"\n",
       "    ]\n",
       "  },\n",
       "  \"exception_info\": {\n",
       "    \"raised_exception\": false,\n",
       "    \"exception_traceback\": null,\n",
       "    \"exception_message\": null\n",
       "  },\n",
       "  \"meta\": {}\n",
       "}"
      ]
     },
     "execution_count": 10,
     "metadata": {},
     "output_type": "execute_result"
    }
   ],
   "source": [
    "df.expect_column_values_to_be_unique(column=[\"first_name\"])"
   ]
  },
  {
   "cell_type": "code",
   "execution_count": 11,
   "id": "8eaadcdc",
   "metadata": {},
   "outputs": [
    {
     "data": {
      "text/plain": [
       "0        sam\n",
       "1       Jack\n",
       "2       juck\n",
       "3    Stephen\n",
       "4       rock\n",
       "5       Anne\n",
       "6        sam\n",
       "7        sam\n",
       "8       juck\n",
       "Name: first_name, dtype: object"
      ]
     },
     "execution_count": 11,
     "metadata": {},
     "output_type": "execute_result"
    }
   ],
   "source": [
    "df.first_name"
   ]
  },
  {
   "cell_type": "code",
   "execution_count": 12,
   "id": "e6bb54b7",
   "metadata": {},
   "outputs": [
    {
     "data": {
      "text/plain": [
       "{\n",
       "  \"success\": true,\n",
       "  \"result\": {\n",
       "    \"element_count\": 9,\n",
       "    \"unexpected_count\": 1,\n",
       "    \"unexpected_percent\": 11.11111111111111,\n",
       "    \"unexpected_percent_total\": 11.11111111111111,\n",
       "    \"partial_unexpected_list\": []\n",
       "  },\n",
       "  \"exception_info\": {\n",
       "    \"raised_exception\": false,\n",
       "    \"exception_traceback\": null,\n",
       "    \"exception_message\": null\n",
       "  },\n",
       "  \"meta\": {}\n",
       "}"
      ]
     },
     "execution_count": 12,
     "metadata": {},
     "output_type": "execute_result"
    }
   ],
   "source": [
    "df.expect_column_values_to_not_be_null(column=[\"first_name\"])"
   ]
  },
  {
   "cell_type": "code",
   "execution_count": 17,
   "id": "b273492b",
   "metadata": {},
   "outputs": [
    {
     "data": {
      "text/plain": [
       "{\n",
       "  \"success\": true,\n",
       "  \"result\": {\n",
       "    \"element_count\": 9,\n",
       "    \"missing_count\": 0,\n",
       "    \"missing_percent\": 0.0,\n",
       "    \"unexpected_count\": 1,\n",
       "    \"unexpected_percent\": 11.11111111111111,\n",
       "    \"unexpected_percent_total\": 11.11111111111111,\n",
       "    \"unexpected_percent_nonmissing\": 11.11111111111111,\n",
       "    \"partial_unexpected_list\": [\n",
       "      \"first_name\"\n",
       "    ]\n",
       "  },\n",
       "  \"exception_info\": {\n",
       "    \"raised_exception\": false,\n",
       "    \"exception_traceback\": null,\n",
       "    \"exception_message\": null\n",
       "  },\n",
       "  \"meta\": {}\n",
       "}"
      ]
     },
     "execution_count": 17,
     "metadata": {},
     "output_type": "execute_result"
    }
   ],
   "source": [
    "df.expect_column_values_to_be_in_set(column=[\"first_name\"],value_set=[\"sam\",\"juck\",\"Stephen\",\"Anne\",\"rock\",\"Jack\"])"
   ]
  },
  {
   "cell_type": "code",
   "execution_count": 19,
   "id": "2a832f31",
   "metadata": {},
   "outputs": [
    {
     "data": {
      "text/plain": [
       "{\n",
       "  \"success\": false,\n",
       "  \"result\": {\n",
       "    \"element_count\": 9,\n",
       "    \"missing_count\": 0,\n",
       "    \"missing_percent\": 0.0,\n",
       "    \"unexpected_count\": 9,\n",
       "    \"unexpected_percent\": 100.0,\n",
       "    \"unexpected_percent_total\": 100.0,\n",
       "    \"unexpected_percent_nonmissing\": 100.0,\n",
       "    \"partial_unexpected_list\": [\n",
       "      \"22-10-1966\",\n",
       "      \"23-06-1986\",\n",
       "      \"14-10-1968\",\n",
       "      \"25-11-2002\",\n",
       "      \"26-01-1992\",\n",
       "      \"21-10-1966\",\n",
       "      \"22-10-1966\",\n",
       "      \"29-12-1983\",\n",
       "      \"14-10-1978\"\n",
       "    ]\n",
       "  },\n",
       "  \"exception_info\": {\n",
       "    \"raised_exception\": false,\n",
       "    \"exception_traceback\": null,\n",
       "    \"exception_message\": null\n",
       "  },\n",
       "  \"meta\": {}\n",
       "}"
      ]
     },
     "execution_count": 19,
     "metadata": {},
     "output_type": "execute_result"
    }
   ],
   "source": [
    "df.expect_column_values_to_match_regex_list(column=\"dob\",regex_list=[\"%d{2}-%d{2}-%d{4}\"],mostly=1)"
   ]
  },
  {
   "cell_type": "code",
   "execution_count": 20,
   "id": "529c5935",
   "metadata": {},
   "outputs": [
    {
     "data": {
      "text/plain": [
       "{\n",
       "  \"success\": true,\n",
       "  \"result\": {\n",
       "    \"element_count\": 9,\n",
       "    \"missing_count\": 0,\n",
       "    \"missing_percent\": 0.0,\n",
       "    \"unexpected_count\": 0,\n",
       "    \"unexpected_percent\": 0.0,\n",
       "    \"unexpected_percent_total\": 0.0,\n",
       "    \"unexpected_percent_nonmissing\": 0.0,\n",
       "    \"partial_unexpected_list\": []\n",
       "  },\n",
       "  \"exception_info\": {\n",
       "    \"raised_exception\": false,\n",
       "    \"exception_traceback\": null,\n",
       "    \"exception_message\": null\n",
       "  },\n",
       "  \"meta\": {}\n",
       "}"
      ]
     },
     "execution_count": 20,
     "metadata": {},
     "output_type": "execute_result"
    }
   ],
   "source": [
    "df.expect_column_values_to_be_of_type(\"first_name\",\"str\")"
   ]
  },
  {
   "cell_type": "code",
   "execution_count": 24,
   "id": "0bb118c2",
   "metadata": {},
   "outputs": [
    {
     "data": {
      "text/plain": [
       "{\n",
       "  \"success\": true,\n",
       "  \"result\": {\n",
       "    \"observed_value\": [\n",
       "      \"first_name\",\n",
       "      \"second_name\",\n",
       "      \"street\",\n",
       "      \"city\",\n",
       "      \"code\",\n",
       "      \"pincode\",\n",
       "      \"dob\"\n",
       "    ]\n",
       "  },\n",
       "  \"exception_info\": {\n",
       "    \"raised_exception\": false,\n",
       "    \"exception_traceback\": null,\n",
       "    \"exception_message\": null\n",
       "  },\n",
       "  \"meta\": {}\n",
       "}"
      ]
     },
     "execution_count": 24,
     "metadata": {},
     "output_type": "execute_result"
    }
   ],
   "source": [
    "df.expect_table_columns_to_match_set(column_set=df.columns)"
   ]
  },
  {
   "cell_type": "code",
   "execution_count": 27,
   "id": "545ae560",
   "metadata": {},
   "outputs": [
    {
     "data": {
      "text/plain": [
       "{\n",
       "  \"success\": true,\n",
       "  \"result\": {\n",
       "    \"element_count\": 9,\n",
       "    \"missing_count\": 1,\n",
       "    \"missing_percent\": 11.11111111111111,\n",
       "    \"unexpected_count\": 0,\n",
       "    \"unexpected_percent\": 0.0,\n",
       "    \"unexpected_percent_total\": 0.0,\n",
       "    \"unexpected_percent_nonmissing\": 0.0,\n",
       "    \"partial_unexpected_list\": []\n",
       "  },\n",
       "  \"exception_info\": {\n",
       "    \"raised_exception\": false,\n",
       "    \"exception_traceback\": null,\n",
       "    \"exception_message\": null\n",
       "  },\n",
       "  \"meta\": {}\n",
       "}"
      ]
     },
     "execution_count": 27,
     "metadata": {},
     "output_type": "execute_result"
    }
   ],
   "source": [
    "df.expect_column_value_lengths_to_equal(column=\"code\",value=2)"
   ]
  },
  {
   "cell_type": "code",
   "execution_count": 34,
   "id": "7c172a33",
   "metadata": {},
   "outputs": [
    {
     "data": {
      "text/plain": [
       "{\n",
       "  \"success\": true,\n",
       "  \"result\": {\n",
       "    \"element_count\": 9,\n",
       "    \"missing_count\": 0,\n",
       "    \"missing_percent\": 0.0,\n",
       "    \"unexpected_count\": 0,\n",
       "    \"unexpected_percent\": 0.0,\n",
       "    \"unexpected_percent_total\": 0.0,\n",
       "    \"unexpected_percent_nonmissing\": 0.0,\n",
       "    \"partial_unexpected_list\": []\n",
       "  },\n",
       "  \"exception_info\": {\n",
       "    \"raised_exception\": false,\n",
       "    \"exception_traceback\": null,\n",
       "    \"exception_message\": null\n",
       "  },\n",
       "  \"meta\": {}\n",
       "}"
      ]
     },
     "execution_count": 34,
     "metadata": {},
     "output_type": "execute_result"
    }
   ],
   "source": [
    "df.expect_column_values_to_match_strftime_format(\"dob\",strftime_format=\"%d-%m-%Y\")"
   ]
  },
  {
   "cell_type": "code",
   "execution_count": 31,
   "id": "3864d544",
   "metadata": {},
   "outputs": [],
   "source": [
    "df[\"current_date\"]= \"20221008\""
   ]
  },
  {
   "cell_type": "code",
   "execution_count": 33,
   "id": "a01e82d2",
   "metadata": {},
   "outputs": [
    {
     "data": {
      "text/plain": [
       "{\n",
       "  \"success\": true,\n",
       "  \"result\": {\n",
       "    \"element_count\": 9,\n",
       "    \"missing_count\": 0,\n",
       "    \"missing_percent\": 0.0,\n",
       "    \"unexpected_count\": 0,\n",
       "    \"unexpected_percent\": 0.0,\n",
       "    \"unexpected_percent_total\": 0.0,\n",
       "    \"unexpected_percent_nonmissing\": 0.0,\n",
       "    \"partial_unexpected_list\": []\n",
       "  },\n",
       "  \"exception_info\": {\n",
       "    \"raised_exception\": false,\n",
       "    \"exception_traceback\": null,\n",
       "    \"exception_message\": null\n",
       "  },\n",
       "  \"meta\": {}\n",
       "}"
      ]
     },
     "execution_count": 33,
     "metadata": {},
     "output_type": "execute_result"
    }
   ],
   "source": [
    "df.expect_column_values_to_match_strftime_format(\"current_date\",strftime_format=\"%Y%m%d\")"
   ]
  },
  {
   "cell_type": "code",
   "execution_count": 35,
   "id": "9f0eba99",
   "metadata": {},
   "outputs": [
    {
     "data": {
      "text/plain": [
       "{\n",
       "  \"success\": true,\n",
       "  \"result\": {\n",
       "    \"observed_value\": 8\n",
       "  },\n",
       "  \"exception_info\": {\n",
       "    \"raised_exception\": false,\n",
       "    \"exception_traceback\": null,\n",
       "    \"exception_message\": null\n",
       "  },\n",
       "  \"meta\": {}\n",
       "}"
      ]
     },
     "execution_count": 35,
     "metadata": {},
     "output_type": "execute_result"
    }
   ],
   "source": [
    "df.expect_table_column_count_to_equal(8)"
   ]
  },
  {
   "cell_type": "code",
   "execution_count": 37,
   "id": "a30746f5",
   "metadata": {},
   "outputs": [
    {
     "name": "stdout",
     "output_type": "stream",
     "text": [
      "True\n"
     ]
    }
   ],
   "source": [
    "output = df.expect_column_to_exist(\"dob\")\n",
    "print(output[\"success\"])"
   ]
  },
  {
   "cell_type": "code",
   "execution_count": null,
   "id": "b3b7a70f",
   "metadata": {},
   "outputs": [],
   "source": [
    "df.expect"
   ]
  }
 ],
 "metadata": {
  "kernelspec": {
   "display_name": "Python 3 (ipykernel)",
   "language": "python",
   "name": "python3"
  },
  "language_info": {
   "codemirror_mode": {
    "name": "ipython",
    "version": 3
   },
   "file_extension": ".py",
   "mimetype": "text/x-python",
   "name": "python",
   "nbconvert_exporter": "python",
   "pygments_lexer": "ipython3",
   "version": "3.9.0"
  }
 },
 "nbformat": 4,
 "nbformat_minor": 5
}
