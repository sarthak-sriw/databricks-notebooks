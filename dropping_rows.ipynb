{
 "cells": [
  {
   "cell_type": "code",
   "execution_count": 1,
   "id": "445c2c1e",
   "metadata": {},
   "outputs": [],
   "source": [
    "import findspark\n",
    "findspark.init()"
   ]
  },
  {
   "cell_type": "code",
   "execution_count": 2,
   "id": "aa785d38",
   "metadata": {},
   "outputs": [],
   "source": [
    "import pyspark"
   ]
  },
  {
   "cell_type": "code",
   "execution_count": 3,
   "id": "cfe1338d",
   "metadata": {},
   "outputs": [],
   "source": [
    "from pyspark.sql import SparkSession"
   ]
  },
  {
   "cell_type": "code",
   "execution_count": 4,
   "id": "4bee5d25",
   "metadata": {},
   "outputs": [],
   "source": [
    "spark = SparkSession.builder.appName('Dataframe').getOrCreate()\n"
   ]
  },
  {
   "cell_type": "code",
   "execution_count": 22,
   "id": "eeaf1a23",
   "metadata": {},
   "outputs": [],
   "source": [
    "from pyspark.sql.functions import col\n",
    "from pyspark.sql.window import Window \n",
    "import pyspark.sql.functions as F\n",
    "from pyspark.sql.functions import row_number"
   ]
  },
  {
   "cell_type": "code",
   "execution_count": 11,
   "id": "b4853f69",
   "metadata": {},
   "outputs": [
    {
     "name": "stdout",
     "output_type": "stream",
     "text": [
      "+----------+-----------+-------------------+-----------+----+-------+----------+\n",
      "|first_name|second_name|             street|       city|code|pincode|       dob|\n",
      "+----------+-----------+-------------------+-----------+----+-------+----------+\n",
      "|       sam|       sriw|  120 jefferson st.|  Riverside|  NJ|   8075|22-10-1966|\n",
      "|      Jack|   McGinnis|       220 hobo Av.|      Phila|  PA|   9119|23-06-1986|\n",
      "|      juck|     Repici|               null|  Riverside|  NJ|   8075|14-10-1968|\n",
      "|   Stephen|      Tyler|       7452 Terrace|         NY|  SD|  91234|25-11-2002|\n",
      "|      rock|       null|  120 Jefferson St.|         NY|null|    298|26-01-1992|\n",
      "|      Anne|        Jet|9th, at Terrace plc|Desert City|  CO|    123|21-10-1966|\n",
      "|       sam|       sriw|  120 jefferson st.|  Riverside|  NJ|   8075|22-10-1966|\n",
      "|       sam|      singh|           kolapuri|         PB|  KC|   2133|29-12-1983|\n",
      "|      juck|     Repici|               null|  Riverside|  NJ|   8075|14-10-1978|\n",
      "+----------+-----------+-------------------+-----------+----+-------+----------+\n",
      "\n"
     ]
    }
   ],
   "source": [
    "df =spark.read.csv(r\"C:\\Users\\sarth\\Documents\\Python_notebook\\addresses.csv\",header=True,inferSchema=True)\n",
    "df.show()"
   ]
  },
  {
   "cell_type": "code",
   "execution_count": 12,
   "id": "aec2afd0",
   "metadata": {},
   "outputs": [
    {
     "name": "stdout",
     "output_type": "stream",
     "text": [
      "+----------+-----------+-------------------+-----------+----+-------+----------+\n",
      "|first_name|second_name|             street|       city|code|pincode|       dob|\n",
      "+----------+-----------+-------------------+-----------+----+-------+----------+\n",
      "|       sam|       sriw|  120 jefferson st.|  Riverside|  NJ|   8075|22-10-1966|\n",
      "|      Jack|   McGinnis|       220 hobo Av.|      Phila|  PA|   9119|23-06-1986|\n",
      "|   Stephen|      Tyler|       7452 Terrace|         NY|  SD|  91234|25-11-2002|\n",
      "|      Anne|        Jet|9th, at Terrace plc|Desert City|  CO|    123|21-10-1966|\n",
      "|       sam|       sriw|  120 jefferson st.|  Riverside|  NJ|   8075|22-10-1966|\n",
      "|       sam|      singh|           kolapuri|         PB|  KC|   2133|29-12-1983|\n",
      "+----------+-----------+-------------------+-----------+----+-------+----------+\n",
      "\n"
     ]
    }
   ],
   "source": [
    "#drop na\n",
    "df.dropna().show()"
   ]
  },
  {
   "cell_type": "code",
   "execution_count": 13,
   "id": "25068e2e",
   "metadata": {},
   "outputs": [
    {
     "name": "stdout",
     "output_type": "stream",
     "text": [
      "+----------+-----------+-------------------+-----------+----+-------+----------+\n",
      "|first_name|second_name|             street|       city|code|pincode|       dob|\n",
      "+----------+-----------+-------------------+-----------+----+-------+----------+\n",
      "|       sam|       sriw|  120 jefferson st.|  Riverside|  NJ|   8075|22-10-1966|\n",
      "|      Jack|   McGinnis|       220 hobo Av.|      Phila|  PA|   9119|23-06-1986|\n",
      "|      juck|     Repici|               null|  Riverside|  NJ|   8075|14-10-1968|\n",
      "|   Stephen|      Tyler|       7452 Terrace|         NY|  SD|  91234|25-11-2002|\n",
      "|      Anne|        Jet|9th, at Terrace plc|Desert City|  CO|    123|21-10-1966|\n",
      "|       sam|       sriw|  120 jefferson st.|  Riverside|  NJ|   8075|22-10-1966|\n",
      "|       sam|      singh|           kolapuri|         PB|  KC|   2133|29-12-1983|\n",
      "|      juck|     Repici|               null|  Riverside|  NJ|   8075|14-10-1978|\n",
      "+----------+-----------+-------------------+-----------+----+-------+----------+\n",
      "\n"
     ]
    }
   ],
   "source": [
    "# drop na from column\n",
    "df.where(col(\"second_name\").isNotNull()).show()"
   ]
  },
  {
   "cell_type": "code",
   "execution_count": 14,
   "id": "c50bdd6a",
   "metadata": {},
   "outputs": [
    {
     "name": "stdout",
     "output_type": "stream",
     "text": [
      "+----------+-----------+-------------------+-----------+----+-------+----------+\n",
      "|first_name|second_name|             street|       city|code|pincode|       dob|\n",
      "+----------+-----------+-------------------+-----------+----+-------+----------+\n",
      "|      rock|       null|  120 Jefferson St.|         NY|null|    298|26-01-1992|\n",
      "|      Anne|        Jet|9th, at Terrace plc|Desert City|  CO|    123|21-10-1966|\n",
      "|       sam|      singh|           kolapuri|         PB|  KC|   2133|29-12-1983|\n",
      "|       sam|       sriw|  120 jefferson st.|  Riverside|  NJ|   8075|22-10-1966|\n",
      "|      juck|     Repici|               null|  Riverside|  NJ|   8075|14-10-1978|\n",
      "|      juck|     Repici|               null|  Riverside|  NJ|   8075|14-10-1968|\n",
      "|      Jack|   McGinnis|       220 hobo Av.|      Phila|  PA|   9119|23-06-1986|\n",
      "|   Stephen|      Tyler|       7452 Terrace|         NY|  SD|  91234|25-11-2002|\n",
      "+----------+-----------+-------------------+-----------+----+-------+----------+\n",
      "\n"
     ]
    }
   ],
   "source": [
    "# drop duplicate rows\n",
    "\n",
    "df.dropDuplicates().show()"
   ]
  },
  {
   "cell_type": "code",
   "execution_count": 15,
   "id": "fb7d44c9",
   "metadata": {},
   "outputs": [
    {
     "name": "stdout",
     "output_type": "stream",
     "text": [
      "+----------+-----------+-------------------+-----------+----+-------+----------+\n",
      "|first_name|second_name|             street|       city|code|pincode|       dob|\n",
      "+----------+-----------+-------------------+-----------+----+-------+----------+\n",
      "|      Anne|        Jet|9th, at Terrace plc|Desert City|  CO|    123|21-10-1966|\n",
      "|      Jack|   McGinnis|       220 hobo Av.|      Phila|  PA|   9119|23-06-1986|\n",
      "|   Stephen|      Tyler|       7452 Terrace|         NY|  SD|  91234|25-11-2002|\n",
      "|      juck|     Repici|               null|  Riverside|  NJ|   8075|14-10-1968|\n",
      "|      rock|       null|  120 Jefferson St.|         NY|null|    298|26-01-1992|\n",
      "|       sam|       sriw|  120 jefferson st.|  Riverside|  NJ|   8075|22-10-1966|\n",
      "+----------+-----------+-------------------+-----------+----+-------+----------+\n",
      "\n"
     ]
    }
   ],
   "source": [
    "# drop duplicate rows from column\n",
    "\n",
    "df.dropDuplicates([\"first_name\"]).show()\n"
   ]
  },
  {
   "cell_type": "code",
   "execution_count": 16,
   "id": "c6e168f8",
   "metadata": {},
   "outputs": [
    {
     "name": "stdout",
     "output_type": "stream",
     "text": [
      "+----------+-----------+-------------------+-----------+----+-------+----------+\n",
      "|first_name|second_name|             street|       city|code|pincode|       dob|\n",
      "+----------+-----------+-------------------+-----------+----+-------+----------+\n",
      "|       sam|       sriw|  120 jefferson st.|  Riverside|  NJ|   8075|22-10-1966|\n",
      "|      Jack|   McGinnis|       220 hobo Av.|      Phila|  PA|   9119|23-06-1986|\n",
      "|      juck|     Repici|               null|  Riverside|  NJ|   8075|14-10-1968|\n",
      "|   Stephen|      Tyler|       7452 Terrace|         NY|  SD|  91234|25-11-2002|\n",
      "|      rock|       null|  120 Jefferson St.|         NY|null|    298|26-01-1992|\n",
      "|      Anne|        Jet|9th, at Terrace plc|Desert City|  CO|    123|21-10-1966|\n",
      "|       sam|       sriw|  120 jefferson st.|  Riverside|  NJ|   8075|22-10-1966|\n",
      "|       sam|      singh|           kolapuri|         PB|  KC|   2133|29-12-1983|\n",
      "|      juck|     Repici|               null|  Riverside|  NJ|   8075|14-10-1978|\n",
      "+----------+-----------+-------------------+-----------+----+-------+----------+\n",
      "\n"
     ]
    }
   ],
   "source": [
    "df.show()"
   ]
  },
  {
   "cell_type": "code",
   "execution_count": 26,
   "id": "b8efdb17",
   "metadata": {},
   "outputs": [
    {
     "name": "stdout",
     "output_type": "stream",
     "text": [
      "+----------+-----------+----------+-------+\n",
      "|first_name|second_name|       dob|row_num|\n",
      "+----------+-----------+----------+-------+\n",
      "|      Anne|        Jet|21-10-1966|      1|\n",
      "|      Jack|   McGinnis|23-06-1986|      1|\n",
      "|   Stephen|      Tyler|25-11-2002|      1|\n",
      "|      juck|     Repici|14-10-1968|      1|\n",
      "|      rock|       null|26-01-1992|      1|\n",
      "|       sam|       sriw|22-10-1966|      1|\n",
      "+----------+-----------+----------+-------+\n",
      "\n"
     ]
    }
   ],
   "source": [
    "df1 = df.select(\"first_name\",\"second_name\",\"dob\",F.row_number().over(Window.partitionBy(\"first_name\").orderBy(df['dob'])).alias(\"row_num\"))\n",
    "df1.filter(df1.row_num==1).show()\n",
    "                "
   ]
  },
  {
   "cell_type": "code",
   "execution_count": 44,
   "id": "ea96171f",
   "metadata": {},
   "outputs": [
    {
     "name": "stdout",
     "output_type": "stream",
     "text": [
      "+--------------+---+\n",
      "|new_first_name|num|\n",
      "+--------------+---+\n",
      "|          Anne|  1|\n",
      "|          Jack|  1|\n",
      "|       Stephen|  1|\n",
      "|          juck|  2|\n",
      "|          rock|  1|\n",
      "|           sam|  3|\n",
      "+--------------+---+\n",
      "\n"
     ]
    }
   ],
   "source": [
    "#rows  from last occurence \n",
    "\n",
    "df2 = df.select(\"first_name\",\"second_name\",\"street\",\"city\",\"code\",\"pincode\",\"dob\",F.row_number().over(Window.partitionBy(\"first_name\").orderBy(df['dob'])).alias(\"row_num\"))\n",
    "df3 = df2.groupBy(\"first_name\").agg(F.max(\"row_num\").alias(\"num\")).withColumnRenamed(\"first_name\",\"new_first_name\")\n",
    "#ax(\"row_num\").alias(\"num\")\n",
    "df3.show()"
   ]
  },
  {
   "cell_type": "code",
   "execution_count": 39,
   "id": "e3bdd884",
   "metadata": {},
   "outputs": [
    {
     "name": "stdout",
     "output_type": "stream",
     "text": [
      "+----------+-----------+-------------------+-----------+----+-------+----------+-------+\n",
      "|first_name|second_name|             street|       city|code|pincode|       dob|row_num|\n",
      "+----------+-----------+-------------------+-----------+----+-------+----------+-------+\n",
      "|      Anne|        Jet|9th, at Terrace plc|Desert City|  CO|    123|21-10-1966|      1|\n",
      "|      Jack|   McGinnis|       220 hobo Av.|      Phila|  PA|   9119|23-06-1986|      1|\n",
      "|   Stephen|      Tyler|       7452 Terrace|         NY|  SD|  91234|25-11-2002|      1|\n",
      "|      juck|     Repici|               null|  Riverside|  NJ|   8075|14-10-1968|      1|\n",
      "|      juck|     Repici|               null|  Riverside|  NJ|   8075|14-10-1978|      2|\n",
      "|      rock|       null|  120 Jefferson St.|         NY|null|    298|26-01-1992|      1|\n",
      "|       sam|       sriw|  120 jefferson st.|  Riverside|  NJ|   8075|22-10-1966|      1|\n",
      "|       sam|       sriw|  120 jefferson st.|  Riverside|  NJ|   8075|22-10-1966|      2|\n",
      "|       sam|      singh|           kolapuri|         PB|  KC|   2133|29-12-1983|      3|\n",
      "+----------+-----------+-------------------+-----------+----+-------+----------+-------+\n",
      "\n"
     ]
    }
   ],
   "source": [
    "df2.show()"
   ]
  },
  {
   "cell_type": "code",
   "execution_count": 49,
   "id": "52ab8167",
   "metadata": {},
   "outputs": [
    {
     "name": "stdout",
     "output_type": "stream",
     "text": [
      "+----------+-----------+-------------------+-----------+----+-------+----------+-------+--------------+---+\n",
      "|first_name|second_name|             street|       city|code|pincode|       dob|row_num|new_first_name|num|\n",
      "+----------+-----------+-------------------+-----------+----+-------+----------+-------+--------------+---+\n",
      "|      Anne|        Jet|9th, at Terrace plc|Desert City|  CO|    123|21-10-1966|      1|          Anne|  1|\n",
      "|      Jack|   McGinnis|       220 hobo Av.|      Phila|  PA|   9119|23-06-1986|      1|          Jack|  1|\n",
      "|   Stephen|      Tyler|       7452 Terrace|         NY|  SD|  91234|25-11-2002|      1|       Stephen|  1|\n",
      "|      juck|     Repici|               null|  Riverside|  NJ|   8075|14-10-1978|      2|          juck|  2|\n",
      "|      rock|       null|  120 Jefferson St.|         NY|null|    298|26-01-1992|      1|          rock|  1|\n",
      "|       sam|      singh|           kolapuri|         PB|  KC|   2133|29-12-1983|      3|           sam|  3|\n",
      "+----------+-----------+-------------------+-----------+----+-------+----------+-------+--------------+---+\n",
      "\n"
     ]
    }
   ],
   "source": [
    "df4 = df2.join(df3, (df2.first_name == df3.new_first_name) & (df2.row_num == df3.num),\"inner\")\n",
    "df4.show()"
   ]
  },
  {
   "cell_type": "code",
   "execution_count": 46,
   "id": "6bcc094a",
   "metadata": {},
   "outputs": [
    {
     "name": "stdout",
     "output_type": "stream",
     "text": [
      "+----------+-----------+-------------------+-----------+----+-------+----------+\n",
      "|first_name|second_name|             street|       city|code|pincode|       dob|\n",
      "+----------+-----------+-------------------+-----------+----+-------+----------+\n",
      "|      Anne|        Jet|9th, at Terrace plc|Desert City|  CO|    123|21-10-1966|\n",
      "|      Jack|   McGinnis|       220 hobo Av.|      Phila|  PA|   9119|23-06-1986|\n",
      "|   Stephen|      Tyler|       7452 Terrace|         NY|  SD|  91234|25-11-2002|\n",
      "|      juck|     Repici|               null|  Riverside|  NJ|   8075|14-10-1978|\n",
      "|      rock|       null|  120 Jefferson St.|         NY|null|    298|26-01-1992|\n",
      "|       sam|      singh|           kolapuri|         PB|  KC|   2133|29-12-1983|\n",
      "+----------+-----------+-------------------+-----------+----+-------+----------+\n",
      "\n"
     ]
    }
   ],
   "source": [
    "df4.drop(\"new_first_name\",\"row_num\",\"num\").show()"
   ]
  },
  {
   "cell_type": "code",
   "execution_count": 47,
   "id": "65e3be85",
   "metadata": {},
   "outputs": [
    {
     "name": "stdout",
     "output_type": "stream",
     "text": [
      "+----------+-----------+-----------------+---------+----+-------+----------+-------+\n",
      "|first_name|second_name|           street|     city|code|pincode|       dob|row_num|\n",
      "+----------+-----------+-----------------+---------+----+-------+----------+-------+\n",
      "|      juck|     Repici|             null|Riverside|  NJ|   8075|14-10-1968|      1|\n",
      "|       sam|       sriw|120 jefferson st.|Riverside|  NJ|   8075|22-10-1966|      1|\n",
      "|       sam|       sriw|120 jefferson st.|Riverside|  NJ|   8075|22-10-1966|      2|\n",
      "+----------+-----------+-----------------+---------+----+-------+----------+-------+\n",
      "\n"
     ]
    }
   ],
   "source": [
    "df2.join(df3,(df2.first_name == df3.new_first_name) & (df2.row_num == df3.num),\"leftanti\").show()"
   ]
  },
  {
   "cell_type": "code",
   "execution_count": 48,
   "id": "1dec2381",
   "metadata": {},
   "outputs": [
    {
     "name": "stdout",
     "output_type": "stream",
     "text": [
      "+----------+-----------+-------------------+-----------+----+-------+----------+\n",
      "|first_name|second_name|             street|       city|code|pincode|       dob|\n",
      "+----------+-----------+-------------------+-----------+----+-------+----------+\n",
      "|       sam|       sriw|  120 jefferson st.|  Riverside|  NJ|   8075|22-10-1966|\n",
      "|      Jack|   McGinnis|       220 hobo Av.|      Phila|  PA|   9119|23-06-1986|\n",
      "|      juck|     Repici|               null|  Riverside|  NJ|   8075|14-10-1968|\n",
      "|   Stephen|      Tyler|       7452 Terrace|         NY|  SD|  91234|25-11-2002|\n",
      "|      rock|       null|  120 Jefferson St.|         NY|null|    298|26-01-1992|\n",
      "|      Anne|        Jet|9th, at Terrace plc|Desert City|  CO|    123|21-10-1966|\n",
      "|       sam|       sriw|  120 jefferson st.|  Riverside|  NJ|   8075|22-10-1966|\n",
      "|       sam|      singh|           kolapuri|         PB|  KC|   2133|29-12-1983|\n",
      "|      juck|     Repici|               null|  Riverside|  NJ|   8075|14-10-1978|\n",
      "+----------+-----------+-------------------+-----------+----+-------+----------+\n",
      "\n"
     ]
    }
   ],
   "source": [
    "df.show()"
   ]
  },
  {
   "cell_type": "code",
   "execution_count": 50,
   "id": "ee5db5eb",
   "metadata": {},
   "outputs": [
    {
     "data": {
      "text/plain": [
       "['first_name', 'second_name', 'street', 'city', 'code', 'pincode', 'dob']"
      ]
     },
     "execution_count": 50,
     "metadata": {},
     "output_type": "execute_result"
    }
   ],
   "source": [
    "df.columns"
   ]
  },
  {
   "cell_type": "code",
   "execution_count": null,
   "id": "88c98cc0",
   "metadata": {},
   "outputs": [],
   "source": [
    "#rows  from last occurence \n",
    "\n",
    "df2 = df.select(\"first_name\",\"second_name\",\"street\",\"city\",\"code\",\"pincode\",\"dob\",F.row_number().over(Window.partitionBy(\"first_name\").orderBy(df['dob'])).alias(\"row_num\"))\n",
    "df3 = df2.groupBy(\"first_name\").agg(F.max(\"row_num\").alias(\"num\")).withColumnRenamed(\"first_name\",\"new_first_name\")\n",
    "df3.show()\n",
    "\n",
    "df4 = df2.join(df3, (df2.first_name == df3.new_first_name) & (df2.row_num == df3.num),\"inner\")\n",
    "df4.show()\n",
    "\n",
    "df4.drop(\"new_first_name\",\"row_num\",\"num\").show()\n",
    "#rejected records\n",
    "df2.join(df3,(df2.first_name == df3.new_first_name) & (df2.row_num == df3.num),\"leftanti\").show()"
   ]
  }
 ],
 "metadata": {
  "kernelspec": {
   "display_name": "Python 3 (ipykernel)",
   "language": "python",
   "name": "python3"
  },
  "language_info": {
   "codemirror_mode": {
    "name": "ipython",
    "version": 3
   },
   "file_extension": ".py",
   "mimetype": "text/x-python",
   "name": "python",
   "nbconvert_exporter": "python",
   "pygments_lexer": "ipython3",
   "version": "3.8.10"
  }
 },
 "nbformat": 4,
 "nbformat_minor": 5
}
